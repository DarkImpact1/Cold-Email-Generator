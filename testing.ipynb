{
 "cells": [
  {
   "cell_type": "code",
   "execution_count": 2,
   "id": "115e7c12-cc30-43a6-b7b1-34366a8105e4",
   "metadata": {},
   "outputs": [
    {
     "data": {
      "text/plain": [
       "True"
      ]
     },
     "execution_count": 2,
     "metadata": {},
     "output_type": "execute_result"
    }
   ],
   "source": [
    "import os\n",
    "from dotenv import load_dotenv\n",
    "\n",
    "# Load environment variables from .env file\n",
    "load_dotenv()"
   ]
  },
  {
   "cell_type": "code",
   "execution_count": 3,
   "id": "f5336c53-7406-486e-a4d3-1700e5b55dd7",
   "metadata": {},
   "outputs": [
    {
     "data": {
      "text/plain": [
       "'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'"
      ]
     },
     "execution_count": 3,
     "metadata": {},
     "output_type": "execute_result"
    }
   ],
   "source": [
    "os.getenv(\"GROQ_API_KEY\")"
   ]
  },
  {
   "cell_type": "code",
   "execution_count": 4,
   "id": "26f3ff79-8cfb-40d3-b441-d3eda2652ec9",
   "metadata": {},
   "outputs": [],
   "source": [
    "from langchain_groq import ChatGroq\n",
    "\n",
    "llm = ChatGroq(\n",
    "    model=\"mixtral-8x7b-32768\",\n",
    "    temperature=0,\n",
    "    max_tokens=None,\n",
    "    timeout=None,\n",
    "    max_retries=2,\n",
    "    # other params...\n",
    ")"
   ]
  },
  {
   "cell_type": "code",
   "execution_count": 5,
   "id": "f0e4b821-55ff-4040-91bc-b28511565841",
   "metadata": {},
   "outputs": [],
   "source": [
    "response = llm.invoke(\"What it the capital of India\")"
   ]
  },
  {
   "cell_type": "code",
   "execution_count": 8,
   "id": "d3d86157-5ba6-40aa-be89-cfb4d52cb80a",
   "metadata": {},
   "outputs": [
    {
     "name": "stdout",
     "output_type": "stream",
     "text": [
      "The capital of India is actually two cities: New Delhi serves as the country's capital for legislative purposes, while Mumbai (formerly known as Bombay) is the financial and entertainment capital.\n",
      "\n",
      "New Delhi, located in the northern part of the country, is home to the Indian government and its various institutions, including the Parliament of India and the Rashtrapati Bhavan, which serves as the official residence of the President of India. The city is known for its rich history, diverse culture, and numerous tourist attractions, such as the Red Fort, India Gate, and the Lotus Temple.\n",
      "\n",
      "Mumbai, located on the west coast of India, is the country's largest city and a major hub for finance, commerce, and entertainment. It is home to the Bombay Stock Exchange, as well as the Indian film industry, known as Bollywood. The city is known for its vibrant energy, diverse population, and iconic landmarks, such as the Gateway of India and the Chhatrapati Shivaji Maharaj Vastu Sangrahalaya (formerly known as the Prince of Wales Museum).\n",
      "\n",
      "Both New Delhi and Mumbai are important cities in India, each playing a unique role in shaping the country's political, economic, and cultural landscape.\n"
     ]
    }
   ],
   "source": [
    "print(response.content)"
   ]
  },
  {
   "cell_type": "code",
   "execution_count": 9,
   "id": "32c2520e-9b31-4181-bf56-9f683d9796a7",
   "metadata": {},
   "outputs": [
    {
     "name": "stderr",
     "output_type": "stream",
     "text": [
      "USER_AGENT environment variable not set, consider setting it to identify your requests.\n"
     ]
    }
   ],
   "source": [
    "from langchain_community.document_loaders import WebBaseLoader\n",
    "\n",
    "loader = WebBaseLoader(\"https://www.google.com/about/careers/applications/jobs/results/136260588966683334-software-engineer-ii-full-stack-youtube\")"
   ]
  },
  {
   "cell_type": "code",
   "execution_count": 16,
   "id": "580a045a-0beb-4060-aeae-640d5c56279e",
   "metadata": {},
   "outputs": [],
   "source": [
    "docs = loader.load().pop().page_content"
   ]
  },
  {
   "cell_type": "code",
   "execution_count": 17,
   "id": "108dfffd-0af3-44e4-abd1-66a22d241c64",
   "metadata": {},
   "outputs": [
    {
     "data": {
      "text/plain": [
       "\"Software Engineer II, Full Stack, YouTube — Google CareersCareersSkip navigation linksTeamsLocationsBenefitsJobsStudentsYour careerarrow_drop_downYour career menu ApplicationsProfileSaved jobsJob alertsSign inCareersApplicationsProfileSearch jobsSaved jobsJob alertsTeamsLocationsBenefitsJobsStudentsHelpSend Feedbackjob detailsarrow_backBack to jobs searchJobs search results2,497  jobs matchedSoftware Engineer II, Full Stack, YouTubeZürich, SwitzerlandContact Center AI Sales Specialist IV, Google CloudAustin, TX, USA; Cambridge, MA, USA; +6 more; +5 moreReverse and Returns Logistics ManagerLas Vegas, Nevada, USA; Papillion, NE, USA; +5 more; +4 moreSenior Engineering Manager, Search and ComplianceBengaluru, Karnataka, IndiaSenior UX Researcher, gTech Users and ProductsBoulder, CO, USA; Atlanta, GA, USACloud Consultant, Application Modernization Edge, Professional ServicesAustin, TX, USA; Atlanta, GA, USA; +2 more; +1 moreCamera Software Engineer, Project StarlineMountain View, CA, USA; Seattle, WA, USAYouTube Ads Viewer Experience Product ManagerSan Bruno, CA, USA; Mountain View, CA, USADigital Business Marketing Apprenticeship, March 2025 Start (English)Hyderabad, Telangana, India; Gurugram, Haryana, India; +3 more; +2 moreQuantum Error Correction Research Scientist, Quantum AILos Angeles, CA, USA; Goleta, CA, USASales Specialist, YouTube (Fixed-Term Contract)Copenhagen, DenmarkAccount Strategist, Engage, Google Customer SolutionsDublin, IrelandGoogle Experience Operations ManagerBengaluru, Karnataka, IndiaCustomer Engineer, Google Distributed Cloud, Strategic PursuitsSão Paulo, State of São Paulo, BrazilDomain Assurance Compliance Specialist, Risk Compliance and IntegrityAustin, TX, USABOLD Intern, Summer 2025Mountain View, CA, USA; New York, NY, USA; +6 more; +5 moreProgram Manager, Business Continuity and ResilienceReston, VA, USALanguage Manager (Bahasa Indonesia)Jakarta, IndonesiaCloud Consulting Account Lead, Google Cloud (English)Bengaluru, Karnataka, India; Mumbai, Maharashtra, IndiaSenior CAD Engineer, Hardware, Google CloudTel Aviv, Israel; Haifa, Israel1‑20 of 2497navigate_nextFollow Life at Google on More about usAbout usopen_in_newContact usopen_in_newPressopen_in_newRelated InformationInvestor relationsopen_in_newBlogopen_in_newEqual OpportunityGoogle is proud to be an equal opportunity and affirmative action employer. We are committed to building a workforce that is representative of the users we serve, creating a culture of belonging, and providing an equal employment opportunity regardless of race, creed, color, religion, gender, sexual orientation, gender identity/expression, national origin, disability, age, genetic information, veteran status, marital status, pregnancy or related condition (including breastfeeding), expecting or parents-to-be, criminal histories consistent with legal requirements, or any other basis protected by law. See also  Google's EEO Policy, Know your rights: workplace discrimination is illegal, Belonging at Google, and How we hire.More about usexpand_moreRelated informationexpand_moreEqual opportunityexpand_morePrivacyopen_in_newApplicant & Candidate Privacyopen_in_newTermsopen_in_newhelpHelpopen_in_newarrow_backBack to jobs searchSoftware Engineer II, Full Stack, YouTubeshare linkCopy linkemailEmail a friendcorporate_fareYouTubeplaceZürich, Switzerlandbar_chartEarlyEarlyExperience completing work as directed, and collaborating with teammates; developing knowledge of relevant concepts and processes.Applyshare linkCopy linkemailEmail a friendMinimum qualifications:\\nBachelor’s degree or equivalent practical experience.\\n1 year of experience with software development in one or more programming languages (e.g., Python, C, C++, Java, JavaScript).\\n1 year of experience with data structures or algorithms.\\n1 year of experience with full stack development, across back-end such as Java, Python, GO, or C++ codebases, and front-end experience including JavaScript or TypeScript, HTML, CSS or equivalent.\\nPreferred qualifications:\\nExperience in C++ programming language.\\nExperience in understanding ML systems.\\nExperience in e-commerce software.\\nFamiliarity with YouTube or Google Commerce tech stack.\\nExcellent communication skills for collaborating with both technical and non-technical team members.\\nAbout the jobGoogle's software engineers develop the next-generation technologies that change how billions of users connect, explore, and interact with information and one another. Our products need to handle information at massive scale, and extend well beyond web search. We're looking for engineers who bring fresh ideas from all areas, including information retrieval, distributed computing, large-scale system design, networking and data storage, security, artificial intelligence, natural language processing, UI design and mobile; the list goes on and is growing every day. As a software engineer, you will work on a specific project critical to Google’s needs with opportunities to switch teams and projects as you and our fast-paced business grow and evolve. We need our engineers to be versatile, display leadership qualities and be enthusiastic to take on new problems across the full-stack as we continue to push technology forward.\\nAt YouTube, we believe that everyone deserves to have a voice, and that the world is a better place when we listen, share, and build community through our stories. We work together to give everyone the power to share their story, explore what they love, and connect with one another in the process. Working at the intersection of cutting-edge technology and boundless creativity, we move at the speed of culture with a shared goal to show people the world. We explore new ideas, solve real problems, and have fun — and we do it all together.Responsibilities\\nIntegrate our ML-detected products in videos into tagging systems and tools, enabling creators to scale their affiliate shopping business.\\nDevelop and deploy cutting-edge full-stack features, leveraging YouTube and Google Commerce technologies, to empower creators.\\nCultivate engineering best practices in design, development, testing, code reviews, and adhere to the team's development methodologies.\\nCollaborate with PM, UX, and UXR teams to define product requirements, refine designs, and deliver user-centric solutions.\\nPartner with other Engineering teams, including Viewer, Merchants, and Horizontal, to provide end-to-end shopping experiences.\\nInformation collected and processed as part of your Google Careers profile, and any job applications you choose to submit is subject to Google's Applicant and Candidate Privacy Policy.Google is proud to be an equal opportunity and affirmative action employer. We are committed to building a workforce that is representative of the users we serve, creating a culture of belonging, and providing an equal employment opportunity regardless of race, creed, color, religion, gender, sexual orientation, gender identity/expression, national origin, disability, age, genetic information, veteran status, marital status, pregnancy or related condition (including breastfeeding), expecting or parents-to-be, criminal histories consistent with legal requirements, or any other basis protected by law. See also  Google's EEO Policy, Know your rights: workplace discrimination is illegal, Belonging at Google, and How we hire.If you have a need that requires accommodation, please let us know by completing our Accommodations for Applicants form.Google is a global company and, in order to facilitate efficient collaboration and communication globally, English proficiency is a requirement for all roles unless stated otherwise in the job posting.To all recruitment agencies: Google does not accept agency resumes. Please do not forward resumes to our jobs alias, Google employees, or any other organization location. Google is not responsible for any fees related to unsolicited resumes.Follow Life at Google on More about usAbout usopen_in_newContact usopen_in_newPressopen_in_newRelated InformationInvestor relationsopen_in_newBlogopen_in_newEqual OpportunityGoogle is proud to be an equal opportunity and affirmative action employer. We are committed to building a workforce that is representative of the users we serve, creating a culture of belonging, and providing an equal employment opportunity regardless of race, creed, color, religion, gender, sexual orientation, gender identity/expression, national origin, disability, age, genetic information, veteran status, marital status, pregnancy or related condition (including breastfeeding), expecting or parents-to-be, criminal histories consistent with legal requirements, or any other basis protected by law. See also  Google's EEO Policy, Know your rights: workplace discrimination is illegal, Belonging at Google, and How we hire.More about usexpand_moreRelated informationexpand_moreEqual opportunityexpand_morePrivacyopen_in_newApplicant & Candidate Privacyopen_in_newTermsopen_in_newhelpHelpopen_in_newFollow Life at Google on More about usAbout usopen_in_newContact usopen_in_newPressopen_in_newRelated InformationInvestor relationsopen_in_newBlogopen_in_newEqual OpportunityGoogle is proud to be an equal opportunity and affirmative action employer. We are committed to building a workforce that is representative of the users we serve, creating a culture of belonging, and providing an equal employment opportunity regardless of race, creed, color, religion, gender, sexual orientation, gender identity/expression, national origin, disability, age, genetic information, veteran status, marital status, pregnancy or related condition (including breastfeeding), expecting or parents-to-be, criminal histories consistent with legal requirements, or any other basis protected by law. See also  Google's EEO Policy, Know your rights: workplace discrimination is illegal, Belonging at Google, and How we hire.More about usexpand_moreRelated informationexpand_moreEqual opportunityexpand_morePrivacyopen_in_newApplicant & Candidate Privacyopen_in_newTermsopen_in_newhelpHelpopen_in_newGoogle appsMain menu\""
      ]
     },
     "execution_count": 17,
     "metadata": {},
     "output_type": "execute_result"
    }
   ],
   "source": [
    "docs"
   ]
  },
  {
   "cell_type": "code",
   "execution_count": 26,
   "id": "f1913934-6a01-4728-8279-409d859e7b96",
   "metadata": {},
   "outputs": [],
   "source": [
    "from langchain_core.prompts import PromptTemplate"
   ]
  },
  {
   "cell_type": "code",
   "execution_count": 29,
   "id": "9f51d727-7102-4e7b-81f0-b591676eb54e",
   "metadata": {},
   "outputs": [],
   "source": [
    "extraction_prompt = PromptTemplate.from_template(\n",
    "    '''\n",
    "    ### SCRAPED TEXT FROM WEBSITE\n",
    "    {page_content}\n",
    "    ### INSTRUCTION\n",
    "    Here is the page response from which you have to extract the job role, experience, skills, and description required for this job in JSON format. \n",
    "    Make sure to only extract the information specifically requested, and there should be NO PREAMBLE.\n",
    "    The keys in the output should be 'job role', 'experience', 'skills', and 'description'.\n",
    "    ### RETURN VALID OUTPUT IN JSON FORMAT\n",
    "    '''\n",
    ")\n"
   ]
  },
  {
   "cell_type": "code",
   "execution_count": 30,
   "id": "286818af-4e6d-49ab-a6de-44ac09a9bc2f",
   "metadata": {},
   "outputs": [],
   "source": [
    "chain_extract = extraction_prompt | llm "
   ]
  },
  {
   "cell_type": "code",
   "execution_count": 38,
   "id": "dbb1206d-8a97-4951-85db-01663eb5d9bd",
   "metadata": {},
   "outputs": [],
   "source": [
    "response = chain_extract.invoke(input={'page_content':docs})"
   ]
  },
  {
   "cell_type": "code",
   "execution_count": 45,
   "id": "d72b2238-abf5-4ed5-8d51-e2ab328ff001",
   "metadata": {},
   "outputs": [
    {
     "data": {
      "text/plain": [
       "'{\\n  \"job role\": \"Software Engineer II, Full Stack\",\\n  \"experience\": \"Minimum qualifications: Bachelor’s degree or equivalent practical experience. 1 year of experience with software development in one or more programming languages (e.g., Python, C, C++, Java, JavaScript). 1 year of experience with data structures or algorithms. 1 year of experience with full stack development, across back-end such as Java, Python, GO, or C++ codebases, and front-end experience including JavaScript or TypeScript, HTML, CSS or equivalent.\",\\n  \"skills\": \"Preferred qualifications: Experience in C++ programming language. Experience in understanding ML systems. Experience in e-commerce software. Familiarity with YouTube or Google Commerce tech stack. Excellent communication skills for collaborating with both technical and non-technical team members.\",\\n  \"description\": \"Google\\'s software engineers develop the next-generation technologies that change how billions of users connect, explore, and interact with information and one another. Our products need to handle information at massive scale, and extend well beyond web search. We\\'re looking for engineers who bring fresh ideas from all areas, including information retrieval, distributed computing, large-scale system design, networking and data storage, security, artificial intelligence, natural language processing, UI design and mobile; the list goes on and is growing every day. As a software engineer, you will work on a specific project critical to Google’s needs with opportunities to switch teams and projects as you and our fast-paced business grow and evolve. We need our engineers to be versatile, display leadership qualities and be enthusiastic to take on new problems across the full-stack as we continue to push technology forward.\\\\nAt YouTube, we believe that everyone deserves to have a voice, and that the world is a better place when we listen, share, and build community through our stories. We work together to give everyone the power to share their story, explore what they love, and connect with one another in the process. Working at the intersection of cutting-edge technology and boundless creativity, we move at the speed of culture with a shared goal to show people the world. We explore new ideas, solve real problems, and have fun — and we do it all together.\\\\nResponsibilities\\\\nIntegrate our ML-detected products in videos into tagging systems and tools, enabling creators to scale their affiliate shopping business.\\\\nDevelop and deploy cutting-edge full-stack features, leveraging YouTube and Google Commerce technologies, to empower creators.\\\\nCultivate engineering best practices in design, development, testing, code reviews, and adhere to the team\\'s development methodologies.\\\\nCollaborate with PM, UX, and UXR teams to define product requirements, refine designs, and deliver user-centric solutions.\\\\nPartner with other Engineering teams, including Viewer, Merchants, and Horizontal, to provide end-to-end shopping experiences.\"\\n}'"
      ]
     },
     "execution_count": 45,
     "metadata": {},
     "output_type": "execute_result"
    }
   ],
   "source": [
    "response.content"
   ]
  },
  {
   "cell_type": "code",
   "execution_count": 46,
   "id": "5f5ea9a8-d809-45c2-bcca-6519244c27fc",
   "metadata": {},
   "outputs": [],
   "source": [
    "from langchain_core.output_parsers import JsonOutputParser"
   ]
  },
  {
   "cell_type": "code",
   "execution_count": 47,
   "id": "2401152c-2990-44c6-892b-e1275e805139",
   "metadata": {},
   "outputs": [],
   "source": [
    "parser = JsonOutputParser()\n",
    "json_response = parser.parse(response.content)"
   ]
  },
  {
   "cell_type": "code",
   "execution_count": 48,
   "id": "2e72400e-882c-473c-8739-97454af35aca",
   "metadata": {},
   "outputs": [
    {
     "data": {
      "text/plain": [
       "dict"
      ]
     },
     "execution_count": 48,
     "metadata": {},
     "output_type": "execute_result"
    }
   ],
   "source": [
    "type(json_response)"
   ]
  },
  {
   "cell_type": "code",
   "execution_count": 52,
   "id": "c90ae78a-79fd-405f-a984-699a8f85de1a",
   "metadata": {},
   "outputs": [
    {
     "data": {
      "text/plain": [
       "{'job role': 'Software Engineer II, Full Stack',\n",
       " 'experience': 'Minimum qualifications: Bachelor’s degree or equivalent practical experience. 1 year of experience with software development in one or more programming languages (e.g., Python, C, C++, Java, JavaScript). 1 year of experience with data structures or algorithms. 1 year of experience with full stack development, across back-end such as Java, Python, GO, or C++ codebases, and front-end experience including JavaScript or TypeScript, HTML, CSS or equivalent.',\n",
       " 'skills': 'Preferred qualifications: Experience in C++ programming language. Experience in understanding ML systems. Experience in e-commerce software. Familiarity with YouTube or Google Commerce tech stack. Excellent communication skills for collaborating with both technical and non-technical team members.',\n",
       " 'description': \"Google's software engineers develop the next-generation technologies that change how billions of users connect, explore, and interact with information and one another. Our products need to handle information at massive scale, and extend well beyond web search. We're looking for engineers who bring fresh ideas from all areas, including information retrieval, distributed computing, large-scale system design, networking and data storage, security, artificial intelligence, natural language processing, UI design and mobile; the list goes on and is growing every day. As a software engineer, you will work on a specific project critical to Google’s needs with opportunities to switch teams and projects as you and our fast-paced business grow and evolve. We need our engineers to be versatile, display leadership qualities and be enthusiastic to take on new problems across the full-stack as we continue to push technology forward.\\nAt YouTube, we believe that everyone deserves to have a voice, and that the world is a better place when we listen, share, and build community through our stories. We work together to give everyone the power to share their story, explore what they love, and connect with one another in the process. Working at the intersection of cutting-edge technology and boundless creativity, we move at the speed of culture with a shared goal to show people the world. We explore new ideas, solve real problems, and have fun — and we do it all together.\\nResponsibilities\\nIntegrate our ML-detected products in videos into tagging systems and tools, enabling creators to scale their affiliate shopping business.\\nDevelop and deploy cutting-edge full-stack features, leveraging YouTube and Google Commerce technologies, to empower creators.\\nCultivate engineering best practices in design, development, testing, code reviews, and adhere to the team's development methodologies.\\nCollaborate with PM, UX, and UXR teams to define product requirements, refine designs, and deliver user-centric solutions.\\nPartner with other Engineering teams, including Viewer, Merchants, and Horizontal, to provide end-to-end shopping experiences.\"}"
      ]
     },
     "execution_count": 52,
     "metadata": {},
     "output_type": "execute_result"
    }
   ],
   "source": [
    "json_response"
   ]
  },
  {
   "cell_type": "code",
   "execution_count": 53,
   "id": "8d988e8d-7b27-4710-968c-6773c8943f0d",
   "metadata": {},
   "outputs": [],
   "source": [
    "cold_email_tempelate = PromptTemplate.from_template(\n",
    "    '''\n",
    "        ### JOB DESCRIPTION\n",
    "        {job_description}\n",
    "\n",
    "        ### INSTRUCTION\n",
    "        My name is {name} and I have gained knowledge in {skills} and want to apply for {job_role} which required {required_skills} these skills. \n",
    "        your job is to Generate a professional and personalized cold email to the hiring manager for the job described above and make sure you mentions the the necessary skills from my \n",
    "        skillset which is required for this job role. The email should convey enthusiasm, professionalism, and the candidate's desire to contribute to the \n",
    "        company’s mission. The tone should be respectful and focused on how the candidate can add value to the team.\n",
    "        Also, include a call to action for scheduling an interview or further discussion. The email should be around 150-200 words.\n",
    "\n",
    "        ### NO PREAMBLE\n",
    "\n",
    "    '''\n",
    ")"
   ]
  },
  {
   "cell_type": "code",
   "execution_count": 54,
   "id": "2d34ae13-16a3-4a63-b7b1-8ee7bbe0ac08",
   "metadata": {},
   "outputs": [],
   "source": [
    "email_chain = cold_email_tempelate | llm"
   ]
  },
  {
   "cell_type": "code",
   "execution_count": 55,
   "id": "da58dce4-145a-446a-842e-8e38f3b417da",
   "metadata": {},
   "outputs": [],
   "source": [
    "name = \"mohit Dwivedi\"\n",
    "skills= ['Python','Machine Learning','Deep learning','AI and ML','Mongo DB','React Native','Full Stack']"
   ]
  },
  {
   "cell_type": "code",
   "execution_count": 58,
   "id": "836e4a5b-d804-4209-b6ba-657ca0ec3da9",
   "metadata": {},
   "outputs": [],
   "source": [
    "job_role = json_response['job role']\n",
    "experience_required = json_response['experience']\n",
    "skills_required = json_response['skills']\n",
    "job_description = json_response['description']"
   ]
  },
  {
   "cell_type": "code",
   "execution_count": null,
   "id": "e30d9769-b424-4781-b364-d12136952c43",
   "metadata": {},
   "outputs": [],
   "source": [
    "email_chain.invoke(input = {'job_description':job_description,'name': name, 'skills':skills,'required_skills':skills_required})"
   ]
  },
  {
   "cell_type": "code",
   "execution_count": null,
   "id": "8e2ae055-0df7-4e53-97f8-305b8b9dacf7",
   "metadata": {},
   "outputs": [],
   "source": []
  }
 ],
 "metadata": {
  "kernelspec": {
   "display_name": "Python 3 (ipykernel)",
   "language": "python",
   "name": "python3"
  },
  "language_info": {
   "codemirror_mode": {
    "name": "ipython",
    "version": 3
   },
   "file_extension": ".py",
   "mimetype": "text/x-python",
   "name": "python",
   "nbconvert_exporter": "python",
   "pygments_lexer": "ipython3",
   "version": "3.12.4"
  }
 },
 "nbformat": 4,
 "nbformat_minor": 5
}
